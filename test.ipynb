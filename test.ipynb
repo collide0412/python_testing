{
 "cells": [
  {
   "cell_type": "code",
   "execution_count": null,
   "metadata": {},
   "outputs": [],
   "source": [
    "#Python Basics | Python Tutorial For Beginners | Learn Python Programming from Scratch | Edureka"
   ]
  },
  {
   "cell_type": "code",
   "execution_count": 4,
   "metadata": {},
   "outputs": [
    {
     "name": "stdout",
     "output_type": "stream",
     "text": [
      "Hello, welcome to Python Basics Tutorial!\n"
     ]
    }
   ],
   "source": [
    "# demo1.py \n",
    "print('Hello, welcome to Python Basics Tutorial!')"
   ]
  },
  {
   "cell_type": "code",
   "execution_count": null,
   "metadata": {},
   "outputs": [],
   "source": [
    "# add.py\n",
    "a = int(input('Enter number a: '))\n",
    "b = int(input('Enter number b: '))\n",
    "print('Sum of a and b is: ', (a + b))"
   ]
  },
  {
   "cell_type": "code",
   "execution_count": 2,
   "metadata": {},
   "outputs": [
    {
     "name": "stdout",
     "output_type": "stream",
     "text": [
      "20\n"
     ]
    }
   ],
   "source": [
    "#first_program.py\n",
    "a = 10\n",
    "a = 20\n",
    "print(a)"
   ]
  },
  {
   "cell_type": "code",
   "execution_count": 3,
   "metadata": {},
   "outputs": [
    {
     "name": "stdout",
     "output_type": "stream",
     "text": [
      "6.8580000000000005 (-10-6j) -100\n"
     ]
    }
   ],
   "source": [
    "a = 10 # integer\n",
    "b = -10\n",
    "c = 3.142 # float\n",
    "d = 0.142\n",
    "e = 10 + 3j # complex\n",
    "f = 6j\n",
    "#print(a + b, c - d, e - f, end='\\n')\n",
    "print(a - c, b - f, a * b, end='\\n')"
   ]
  },
  {
   "cell_type": "code",
   "execution_count": null,
   "metadata": {},
   "outputs": [],
   "source": [
    "s = '10010' #start string\n",
    "c = int(s, 2) #printing string converting to int base 2\n",
    "print('After converting to int base 2 : %d' % c, end='\\n')\n",
    "\n",
    "e = float(s) #printing string converting to float\n",
    "print('After converting to float : %f' % e, end='\\n')\n",
    "'''\n",
    "''' \n",
    "s = '4' #initializing int\n",
    "c = ord(s) #printing char converting to int\n",
    "print('After converting char to int : %c' % c, end='\\n')\n",
    "\n",
    "#printing int converting to hexadecimal str\n",
    "c = hex(56)\n",
    "print('After converting 56 to hexadecimal str : ' + c, end='\\n')\n",
    "\n",
    "#printing int converting to octal str\n",
    "c = oct(56)\n",
    "print('After converting 56 to octal str : ' + c, end='\\n')\n",
    "\n",
    "#printing str converting to list\n",
    "c = list('s')\n",
    "print('After converting str to list : ', c, end='\\n')\n",
    "\n",
    "S = 'test' #initializing string\n",
    "#printing string converting to tuple\n",
    "c = tuple(s)\n",
    "print('After converting string to tuple : ', c, end='\\n')\n",
    "\n",
    "#printing string converting to set\n",
    "c = set(s)\n",
    "print('After converting string to set : ', c, end='\\n')\n",
    "\n",
    "#initializing int\n",
    "a = 1\n",
    "b = 2\n",
    "tup = (('a',1), ('f',2), ('g',3))  #initializing tuple\n",
    "\n",
    "#printing int converting to complex num\n",
    "c = complex(1, 2)\n",
    "print('After converting int to complex num : ', c, end='\\n')\n",
    "\n",
    "#printing int converting to str\n",
    "c = str(a)\n",
    "print('After converting int to str : ', c, end='\\n')\n",
    "\n",
    "#printing tuple converting to expression dict\n",
    "c = dict(tup)\n",
    "print('After converting tuple to dict : ', c, end='\\n')\n",
    "\n",
    "\n",
    "\n",
    "\n"
   ]
  },
  {
   "cell_type": "code",
   "execution_count": null,
   "metadata": {},
   "outputs": [],
   "source": [
    "#initializing an empty list\n",
    "my_list = []\n",
    "print(my_list)\n",
    "\n",
    "my_list_2 = list()\n",
    "print(my_list_2)\n",
    "\n",
    "#adding elements to list\n",
    "my_list = ['a', 'b', 'c', 1, 2, 3]\n",
    "my_list_2 = list(['1', '1.2', 'test'])\n",
    "print(my_list)\n",
    "print(my_list_2)\n",
    "\n",
    "#Accessing elements from list\n",
    "print(my_list[:])\n",
    "print(my_list[3])\n",
    "print(my_list[1:3])\n",
    "print(my_list[::-1])\n",
    "print(my_list[0:3:2])\n",
    "print(my_list[3][2])\n",
    "\n",
    "my_list.append([555, 12]) #add passed parameters as a single element\n",
    "print(my_list)\n",
    "print(len(my_list))\n",
    "my_list_2.extend([555, 12]) #extend list by adding all elements one by one\n",
    "print(my_list_2)\n",
    "print(len(my_list_2))\n",
    "my_list.insert(1, 'test') #insert passed parameters in place of index and extend list\n",
    "print(my_list)\n",
    "print(my_list + ['example']) #concatenattion\n",
    "print(my_list * 2) #multiplication\n",
    "print(my_list)"
   ]
  }
 ],
 "metadata": {
  "interpreter": {
   "hash": "e02aa19ffdae3967eda2459d7cad99588461071b08665daa8207442aa310bee4"
  },
  "kernelspec": {
   "display_name": "Python 3.9.7 64-bit",
   "language": "python",
   "name": "python3"
  },
  "language_info": {
   "codemirror_mode": {
    "name": "ipython",
    "version": 3
   },
   "file_extension": ".py",
   "mimetype": "text/x-python",
   "name": "python",
   "nbconvert_exporter": "python",
   "pygments_lexer": "ipython3",
   "version": "3.9.7"
  },
  "orig_nbformat": 4
 },
 "nbformat": 4,
 "nbformat_minor": 2
}
